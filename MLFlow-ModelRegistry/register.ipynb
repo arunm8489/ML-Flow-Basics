{
 "cells": [
  {
   "cell_type": "code",
   "execution_count": 35,
   "metadata": {},
   "outputs": [],
   "source": [
    "import pandas as pd\n",
    "import mlflow\n",
    "import sklearn \n",
    "import numpy as np \n",
    "import warnings\n",
    "import os\n",
    "warnings.simplefilter('ignore')"
   ]
  },
  {
   "cell_type": "markdown",
   "metadata": {},
   "source": [
    "## What does MLFlow registery do?\n",
    "\n",
    "The MLflow Model Registry component is a centralized model store, set of APIs, and UI, to collaboratively manage the full lifecycle of an MLflow Model.\n",
    "\n",
    "* An MLflow Model is created from an experiment or run that is logged.Once it is logged, this model can then be registered with the Model Registry.\n",
    "\n",
    "* A registered model has a unique name, contains versions, associated transitional stages, model lineage, and other metadata.\n",
    "\n",
    "* We can also add suitable description to the registred model.\n",
    "\n",
    "**Model version vs Model stage**\n",
    "\n",
    "* Modelversion - Each registered model can have one or many versions. When a new model is added to the Model Registry, it is added as version 1. Each new model registered to the same model name increments the version number.\n",
    "\n",
    "* Model stage - Each distinct model version can be assigned one stage at any given time. MLflow provides predefined stages for common use-cases such as Staging, Production or Archived\n",
    "\n",
    "\n",
    "Suppose we have to push our best model (model with best R2) to registery. How to achieve it?"
   ]
  },
  {
   "cell_type": "code",
   "execution_count": 36,
   "metadata": {},
   "outputs": [],
   "source": [
    "os.chdir('../MLFlow-Tracking')"
   ]
  },
  {
   "cell_type": "code",
   "execution_count": 37,
   "metadata": {},
   "outputs": [
    {
     "data": {
      "text/plain": [
       "('http://127.0.0.1:5000', 'sqlite:///mlflow.db')"
      ]
     },
     "execution_count": 37,
     "metadata": {},
     "output_type": "execute_result"
    }
   ],
   "source": [
    "remote_server_uri = \"http://127.0.0.1:5000\"\n",
    "backend_store_uri = \"sqlite:///mlflow.db\"\n",
    "mlflow.set_registry_uri(remote_server_uri)\n",
    "mlflow.set_tracking_uri(backend_store_uri)\n",
    "mlflow.tracking.get_registry_uri(),mlflow.tracking.get_tracking_uri()"
   ]
  },
  {
   "cell_type": "code",
   "execution_count": 5,
   "metadata": {},
   "outputs": [
    {
     "data": {
      "text/plain": [
       "[<Experiment: artifact_location='mlruns/0', experiment_id='0', lifecycle_stage='active', name='Default', tags={}>,\n",
       " <Experiment: artifact_location='./mlruns/1', experiment_id='1', lifecycle_stage='active', name='Wine_quality_Random_Forest', tags={}>,\n",
       " <Experiment: artifact_location='./mlruns/2', experiment_id='2', lifecycle_stage='active', name='Wine_quality_Decision_Tree', tags={'sklearn.framework': 'LR'}>]"
      ]
     },
     "execution_count": 5,
     "metadata": {},
     "output_type": "execute_result"
    }
   ],
   "source": [
    "#list all experiments\n",
    "from  mlflow.tracking import MlflowClient\n",
    "client = MlflowClient()\n",
    "experiments = client.list_experiments()\n",
    "experiments\n"
   ]
  },
  {
   "cell_type": "markdown",
   "metadata": {},
   "source": [
    "We will register the best model among Randomforest"
   ]
  },
  {
   "cell_type": "code",
   "execution_count": 38,
   "metadata": {},
   "outputs": [
    {
     "name": "stdout",
     "output_type": "stream",
     "text": [
      "Name: Wine_quality_Random_Forest\n",
      "Experiment_id: 1\n",
      "Artifact Location: ./mlruns/1\n",
      "Tags: {}\n",
      "Lifecycle_stage: active\n"
     ]
    }
   ],
   "source": [
    "# Fetch experiment metadata information\n",
    "experiment_id = str(1)\n",
    "experiment = client.get_experiment(experiment_id)\n",
    "print(\"Name: {}\".format(experiment.name))\n",
    "print(\"Experiment_id: {}\".format(experiment.experiment_id))\n",
    "print(\"Artifact Location: {}\".format(experiment.artifact_location))\n",
    "print(\"Tags: {}\".format(experiment.tags))\n",
    "print(\"Lifecycle_stage: {}\".format(experiment.lifecycle_stage))"
   ]
  },
  {
   "cell_type": "code",
   "execution_count": 39,
   "metadata": {},
   "outputs": [
    {
     "data": {
      "text/html": [
       "<div>\n",
       "<style scoped>\n",
       "    .dataframe tbody tr th:only-of-type {\n",
       "        vertical-align: middle;\n",
       "    }\n",
       "\n",
       "    .dataframe tbody tr th {\n",
       "        vertical-align: top;\n",
       "    }\n",
       "\n",
       "    .dataframe thead th {\n",
       "        text-align: right;\n",
       "    }\n",
       "</style>\n",
       "<table border=\"1\" class=\"dataframe\">\n",
       "  <thead>\n",
       "    <tr style=\"text-align: right;\">\n",
       "      <th></th>\n",
       "      <th>run_id</th>\n",
       "      <th>experiment_id</th>\n",
       "      <th>status</th>\n",
       "      <th>artifact_uri</th>\n",
       "      <th>start_time</th>\n",
       "      <th>end_time</th>\n",
       "      <th>metrics.train_rmse</th>\n",
       "      <th>metrics.r2</th>\n",
       "      <th>metrics.train_mae</th>\n",
       "      <th>metrics.test_mae</th>\n",
       "      <th>metrics.test_rmse</th>\n",
       "      <th>params.max_depth</th>\n",
       "      <th>params.n_estimators</th>\n",
       "      <th>tags.mlflow.runName</th>\n",
       "      <th>tags.mlflow.log-model.history</th>\n",
       "      <th>tags.mlflow.source.name</th>\n",
       "      <th>tags.mlflow.source.type</th>\n",
       "      <th>tags.mlflow.user</th>\n",
       "    </tr>\n",
       "  </thead>\n",
       "  <tbody>\n",
       "    <tr>\n",
       "      <th>0</th>\n",
       "      <td>ae913b31a8304ae2800a34f48746097f</td>\n",
       "      <td>1</td>\n",
       "      <td>FINISHED</td>\n",
       "      <td>./mlruns/1/ae913b31a8304ae2800a34f48746097f/ar...</td>\n",
       "      <td>2022-05-09 10:38:23.221000+00:00</td>\n",
       "      <td>2022-05-09 10:38:31.985000+00:00</td>\n",
       "      <td>0.625190</td>\n",
       "      <td>0.336691</td>\n",
       "      <td>0.486478</td>\n",
       "      <td>0.515765</td>\n",
       "      <td>0.640561</td>\n",
       "      <td>3</td>\n",
       "      <td>300</td>\n",
       "      <td>RF_2</td>\n",
       "      <td>[{\"run_id\": \"ae913b31a8304ae2800a34f48746097f\"...</td>\n",
       "      <td>c:\\Users\\Arun Mohan\\.conda\\envs\\mlflowenv\\lib\\...</td>\n",
       "      <td>LOCAL</td>\n",
       "      <td>Arun Mohan</td>\n",
       "    </tr>\n",
       "    <tr>\n",
       "      <th>1</th>\n",
       "      <td>9f119d19982d473fa77783a8fa84dfa7</td>\n",
       "      <td>1</td>\n",
       "      <td>FINISHED</td>\n",
       "      <td>./mlruns/1/9f119d19982d473fa77783a8fa84dfa7/ar...</td>\n",
       "      <td>2022-05-09 10:38:08.469000+00:00</td>\n",
       "      <td>2022-05-09 10:38:23.168000+00:00</td>\n",
       "      <td>0.447360</td>\n",
       "      <td>0.439982</td>\n",
       "      <td>0.346903</td>\n",
       "      <td>0.465243</td>\n",
       "      <td>0.588578</td>\n",
       "      <td>7</td>\n",
       "      <td>300</td>\n",
       "      <td>RF_1</td>\n",
       "      <td>[{\"run_id\": \"9f119d19982d473fa77783a8fa84dfa7\"...</td>\n",
       "      <td>c:\\Users\\Arun Mohan\\.conda\\envs\\mlflowenv\\lib\\...</td>\n",
       "      <td>LOCAL</td>\n",
       "      <td>Arun Mohan</td>\n",
       "    </tr>\n",
       "    <tr>\n",
       "      <th>2</th>\n",
       "      <td>ed7620729b374017baf95b35a74a3180</td>\n",
       "      <td>1</td>\n",
       "      <td>FINISHED</td>\n",
       "      <td>./mlruns/1/ed7620729b374017baf95b35a74a3180/ar...</td>\n",
       "      <td>2022-05-09 10:37:56.759000+00:00</td>\n",
       "      <td>2022-05-09 10:38:08.365000+00:00</td>\n",
       "      <td>0.543539</td>\n",
       "      <td>0.396027</td>\n",
       "      <td>0.423144</td>\n",
       "      <td>0.487621</td>\n",
       "      <td>0.611240</td>\n",
       "      <td>5</td>\n",
       "      <td>100</td>\n",
       "      <td>RF_0</td>\n",
       "      <td>[{\"run_id\": \"ed7620729b374017baf95b35a74a3180\"...</td>\n",
       "      <td>c:\\Users\\Arun Mohan\\.conda\\envs\\mlflowenv\\lib\\...</td>\n",
       "      <td>LOCAL</td>\n",
       "      <td>Arun Mohan</td>\n",
       "    </tr>\n",
       "  </tbody>\n",
       "</table>\n",
       "</div>"
      ],
      "text/plain": [
       "                             run_id experiment_id    status  \\\n",
       "0  ae913b31a8304ae2800a34f48746097f             1  FINISHED   \n",
       "1  9f119d19982d473fa77783a8fa84dfa7             1  FINISHED   \n",
       "2  ed7620729b374017baf95b35a74a3180             1  FINISHED   \n",
       "\n",
       "                                        artifact_uri  \\\n",
       "0  ./mlruns/1/ae913b31a8304ae2800a34f48746097f/ar...   \n",
       "1  ./mlruns/1/9f119d19982d473fa77783a8fa84dfa7/ar...   \n",
       "2  ./mlruns/1/ed7620729b374017baf95b35a74a3180/ar...   \n",
       "\n",
       "                        start_time                         end_time  \\\n",
       "0 2022-05-09 10:38:23.221000+00:00 2022-05-09 10:38:31.985000+00:00   \n",
       "1 2022-05-09 10:38:08.469000+00:00 2022-05-09 10:38:23.168000+00:00   \n",
       "2 2022-05-09 10:37:56.759000+00:00 2022-05-09 10:38:08.365000+00:00   \n",
       "\n",
       "   metrics.train_rmse  metrics.r2  metrics.train_mae  metrics.test_mae  \\\n",
       "0            0.625190    0.336691           0.486478          0.515765   \n",
       "1            0.447360    0.439982           0.346903          0.465243   \n",
       "2            0.543539    0.396027           0.423144          0.487621   \n",
       "\n",
       "   metrics.test_rmse params.max_depth params.n_estimators tags.mlflow.runName  \\\n",
       "0           0.640561                3                 300                RF_2   \n",
       "1           0.588578                7                 300                RF_1   \n",
       "2           0.611240                5                 100                RF_0   \n",
       "\n",
       "                       tags.mlflow.log-model.history  \\\n",
       "0  [{\"run_id\": \"ae913b31a8304ae2800a34f48746097f\"...   \n",
       "1  [{\"run_id\": \"9f119d19982d473fa77783a8fa84dfa7\"...   \n",
       "2  [{\"run_id\": \"ed7620729b374017baf95b35a74a3180\"...   \n",
       "\n",
       "                             tags.mlflow.source.name tags.mlflow.source.type  \\\n",
       "0  c:\\Users\\Arun Mohan\\.conda\\envs\\mlflowenv\\lib\\...                   LOCAL   \n",
       "1  c:\\Users\\Arun Mohan\\.conda\\envs\\mlflowenv\\lib\\...                   LOCAL   \n",
       "2  c:\\Users\\Arun Mohan\\.conda\\envs\\mlflowenv\\lib\\...                   LOCAL   \n",
       "\n",
       "  tags.mlflow.user  \n",
       "0       Arun Mohan  \n",
       "1       Arun Mohan  \n",
       "2       Arun Mohan  "
      ]
     },
     "execution_count": 39,
     "metadata": {},
     "output_type": "execute_result"
    }
   ],
   "source": [
    "experiment_name = \"Wine_quality_Random_Forest\"\n",
    "# get exp id by name\n",
    "exp_details = dict(mlflow.get_experiment_by_name(experiment_name))\n",
    "exp_id = exp_details['experiment_id']\n",
    "df = mlflow.search_runs([exp_id])\n",
    "df"
   ]
  },
  {
   "cell_type": "code",
   "execution_count": 40,
   "metadata": {},
   "outputs": [
    {
     "name": "stdout",
     "output_type": "stream",
     "text": [
      "Details:\n"
     ]
    },
    {
     "data": {
      "text/plain": [
       "{'run_id': {1: '9f119d19982d473fa77783a8fa84dfa7'},\n",
       " 'experiment_id': {1: '1'},\n",
       " 'status': {1: 'FINISHED'},\n",
       " 'artifact_uri': {1: './mlruns/1/9f119d19982d473fa77783a8fa84dfa7/artifacts'},\n",
       " 'start_time': {1: Timestamp('2022-05-09 10:38:08.469000+0000', tz='UTC')},\n",
       " 'end_time': {1: Timestamp('2022-05-09 10:38:23.168000+0000', tz='UTC')},\n",
       " 'metrics.train_rmse': {1: 0.4473604176962957},\n",
       " 'metrics.r2': {1: 0.43998224802577834},\n",
       " 'metrics.train_mae': {1: 0.34690298225856253},\n",
       " 'metrics.test_mae': {1: 0.465242675775956},\n",
       " 'metrics.test_rmse': {1: 0.5885775065871136},\n",
       " 'params.max_depth': {1: '7'},\n",
       " 'params.n_estimators': {1: '300'},\n",
       " 'tags.mlflow.runName': {1: 'RF_1'},\n",
       " 'tags.mlflow.log-model.history': {1: '[{\"run_id\": \"9f119d19982d473fa77783a8fa84dfa7\", \"artifact_path\": \"model\", \"utc_time_created\": \"2022-05-09 10:38:14.477193\", \"flavors\": {\"python_function\": {\"model_path\": \"model.pkl\", \"loader_module\": \"mlflow.sklearn\", \"python_version\": \"3.9.12\", \"env\": \"conda.yaml\"}, \"sklearn\": {\"pickled_model\": \"model.pkl\", \"sklearn_version\": \"1.0.2\", \"serialization_format\": \"cloudpickle\", \"code\": null}}, \"model_uuid\": \"6047f9899eb445839be7810d66185297\", \"mlflow_version\": \"1.25.1\"}]'},\n",
       " 'tags.mlflow.source.name': {1: 'c:\\\\Users\\\\Arun Mohan\\\\.conda\\\\envs\\\\mlflowenv\\\\lib\\\\site-packages\\\\ipykernel_launcher.py'},\n",
       " 'tags.mlflow.source.type': {1: 'LOCAL'},\n",
       " 'tags.mlflow.user': {1: 'Arun Mohan'}}"
      ]
     },
     "execution_count": 40,
     "metadata": {},
     "output_type": "execute_result"
    }
   ],
   "source": [
    "best = df[df['metrics.r2'] == df['metrics.r2'].max()]\n",
    "print(f'Details:')\n",
    "best.to_dict()"
   ]
  },
  {
   "cell_type": "code",
   "execution_count": 41,
   "metadata": {},
   "outputs": [
    {
     "name": "stderr",
     "output_type": "stream",
     "text": [
      "Successfully registered model 'random-forest-wine-quality-model'.\n",
      "2022/05/09 17:02:59 INFO mlflow.tracking._model_registry.client: Waiting up to 300 seconds for model version to finish creation.                     Model name: random-forest-wine-quality-model, version 1\n",
      "Created version '1' of model 'random-forest-wine-quality-model'.\n"
     ]
    },
    {
     "data": {
      "text/plain": [
       "<ModelVersion: creation_timestamp=1652095979619, current_stage='None', description='', last_updated_timestamp=1652095979619, name='random-forest-wine-quality-model', run_id='', run_link='', source='mlruns/1/9f119d19982d473fa77783a8fa84dfa7/artifacts/model', status='READY', status_message='', tags={}, user_id='', version='1'>"
      ]
     },
     "execution_count": 41,
     "metadata": {},
     "output_type": "execute_result"
    }
   ],
   "source": [
    "mlflow.set_tracking_uri(\"http://localhost:5000\")\n",
    "\n",
    "# If a registered model with the name doesn’t exist, the method registers a new model, \n",
    "# creates Version 1, and returns a ModelVersion MLflow object. If a registered model with the name exists, the method\n",
    "# creates a new model version and returns the version object\n",
    "\n",
    "result = mlflow.register_model(\n",
    "    \"mlruns/1/9f119d19982d473fa77783a8fa84dfa7/artifacts/model\",\n",
    "    \"random-forest-wine-quality-model\"\n",
    ")\n",
    "result"
   ]
  },
  {
   "cell_type": "markdown",
   "metadata": {},
   "source": [
    "Suppose we need to update details of any registered model"
   ]
  },
  {
   "cell_type": "code",
   "execution_count": 42,
   "metadata": {},
   "outputs": [
    {
     "data": {
      "text/plain": [
       "<ModelVersion: creation_timestamp=1652095979619, current_stage='None', description=('This model version is a scikit-learn random forest for wine quality '\n",
       " 'prediction with r2 0.439'), last_updated_timestamp=1652095982886, name='random-forest-wine-quality-model', run_id='', run_link='', source='mlruns/1/9f119d19982d473fa77783a8fa84dfa7/artifacts/model', status='READY', status_message='', tags={}, user_id='', version='1'>"
      ]
     },
     "execution_count": 42,
     "metadata": {},
     "output_type": "execute_result"
    }
   ],
   "source": [
    "# lt us include details of the model\n",
    "client = MlflowClient()\n",
    "client.update_model_version(\n",
    "    name=\"random-forest-wine-quality-model\",\n",
    "    version=1,\n",
    "    description=\"This model version is a scikit-learn random forest for wine quality prediction with r2 0.439\"\n",
    ")"
   ]
  },
  {
   "cell_type": "markdown",
   "metadata": {},
   "source": [
    "MLFlow offeres 3 kinds of stages for model- staging,production and archieve.\n",
    "\n",
    "Let us move the model to staging and then to production"
   ]
  },
  {
   "cell_type": "code",
   "execution_count": 43,
   "metadata": {},
   "outputs": [
    {
     "data": {
      "text/plain": [
       "<ModelVersion: creation_timestamp=1652095979619, current_stage='Staging', description=('This model version is a scikit-learn random forest for wine quality '\n",
       " 'prediction with r2 0.439'), last_updated_timestamp=1652095994267, name='random-forest-wine-quality-model', run_id='', run_link='', source='mlruns/1/9f119d19982d473fa77783a8fa84dfa7/artifacts/model', status='READY', status_message='', tags={}, user_id='', version='1'>"
      ]
     },
     "execution_count": 43,
     "metadata": {},
     "output_type": "execute_result"
    }
   ],
   "source": [
    "client = MlflowClient()\n",
    "client.transition_model_version_stage(\n",
    "    name=\"random-forest-wine-quality-model\",\n",
    "    version=1,\n",
    "    stage=\"Staging\"\n",
    ")"
   ]
  },
  {
   "cell_type": "code",
   "execution_count": 44,
   "metadata": {},
   "outputs": [
    {
     "data": {
      "text/plain": [
       "<ModelVersion: creation_timestamp=1652095979619, current_stage='Production', description=('This model version is a scikit-learn random forest for wine quality '\n",
       " 'prediction with r2 0.439'), last_updated_timestamp=1652095994876, name='random-forest-wine-quality-model', run_id='', run_link='', source='mlruns/1/9f119d19982d473fa77783a8fa84dfa7/artifacts/model', status='READY', status_message='', tags={}, user_id='', version='1'>"
      ]
     },
     "execution_count": 44,
     "metadata": {},
     "output_type": "execute_result"
    }
   ],
   "source": [
    "\n",
    "client.transition_model_version_stage(\n",
    "    name=\"random-forest-wine-quality-model\",\n",
    "    version=1,\n",
    "    stage=\"Production\"\n",
    ")"
   ]
  },
  {
   "cell_type": "markdown",
   "metadata": {},
   "source": [
    "similary move the best decision tree model to staging"
   ]
  },
  {
   "cell_type": "code",
   "execution_count": 45,
   "metadata": {},
   "outputs": [
    {
     "name": "stdout",
     "output_type": "stream",
     "text": [
      "Details:\n"
     ]
    },
    {
     "data": {
      "text/plain": [
       "{'run_id': {3: '62e669c2cd7e4e748d50f87253eb262d'},\n",
       " 'experiment_id': {3: '2'},\n",
       " 'status': {3: 'FINISHED'},\n",
       " 'artifact_uri': {3: './mlruns/2/62e669c2cd7e4e748d50f87253eb262d/artifacts'},\n",
       " 'start_time': {3: Timestamp('2022-05-09 10:39:40.526000+0000', tz='UTC')},\n",
       " 'end_time': {3: Timestamp('2022-05-09 10:39:50.732000+0000', tz='UTC')},\n",
       " 'metrics.training_r2_score': {3: 0.4847313759455386},\n",
       " 'metrics.training_rmse': {3: 0.584270822848656},\n",
       " 'metrics.test_score': {3: 0.31164898740117164},\n",
       " 'metrics.test_mse': {3: 0.4258096341998065},\n",
       " 'metrics.test_rmse': {3: 0.6525409061505696},\n",
       " 'metrics.training_score': {3: 0.4847313759455386},\n",
       " 'metrics.training_mae': {3: 0.4383337776650221},\n",
       " 'metrics.training_mse': {3: 0.34137239443224554},\n",
       " 'metrics.test_r2_score': {3: 0.31164898740117164},\n",
       " 'metrics.test_mae': {3: 0.49453849729558486},\n",
       " 'params.max_depth': {3: '5'},\n",
       " 'params.random_state': {3: 'None'},\n",
       " 'params.max_features': {3: 'None'},\n",
       " 'params.min_weight_fraction_leaf': {3: '0.0'},\n",
       " 'params.min_impurity_decrease': {3: '0.0'},\n",
       " 'params.splitter': {3: 'best'},\n",
       " 'params.min_samples_split': {3: '2'},\n",
       " 'params.max_leaf_nodes': {3: 'None'},\n",
       " 'params.ccp_alpha': {3: '0.0'},\n",
       " 'params.min_samples_leaf': {3: '1'},\n",
       " 'params.criterion': {3: 'squared_error'},\n",
       " 'tags.mlflow.runName': {3: 'DT_1'},\n",
       " 'tags.estimator_name': {3: 'DecisionTreeRegressor'},\n",
       " 'tags.mlflow.log-model.history': {3: '[{\"run_id\": \"62e669c2cd7e4e748d50f87253eb262d\", \"artifact_path\": \"model\", \"utc_time_created\": \"2022-05-09 10:39:40.916369\", \"flavors\": {\"python_function\": {\"model_path\": \"model.pkl\", \"loader_module\": \"mlflow.sklearn\", \"python_version\": \"3.9.12\", \"env\": \"conda.yaml\"}, \"sklearn\": {\"pickled_model\": \"model.pkl\", \"sklearn_version\": \"1.0.2\", \"serialization_format\": \"cloudpickle\", \"code\": null}}, \"model_uuid\": \"7b672c1be365475f863029d1d3b261d7\", \"mlflow_version\": \"1.25.1\", \"signature\": {\"inputs\": \"[{\\\\\"name\\\\\": \\\\\"fixed acidity\\\\\", \\\\\"type\\\\\": \\\\\"double\\\\\"}, {\\\\\"name\\\\\": \\\\\"volatile acidity\\\\\", \\\\\"type\\\\\": \\\\\"double\\\\\"}, {\\\\\"name\\\\\": \\\\\"citric acid\\\\\", \\\\\"type\\\\\": \\\\\"double\\\\\"}, {\\\\\"name\\\\\": \\\\\"residual sugar\\\\\", \\\\\"type\\\\\": \\\\\"double\\\\\"}, {\\\\\"name\\\\\": \\\\\"chlorides\\\\\", \\\\\"type\\\\\": \\\\\"double\\\\\"}, {\\\\\"name\\\\\": \\\\\"free sulfur dioxide\\\\\", \\\\\"type\\\\\": \\\\\"double\\\\\"}, {\\\\\"name\\\\\": \\\\\"total sulfur dioxide\\\\\", \\\\\"type\\\\\": \\\\\"double\\\\\"}, {\\\\\"name\\\\\": \\\\\"density\\\\\", \\\\\"type\\\\\": \\\\\"double\\\\\"}, {\\\\\"name\\\\\": \\\\\"pH\\\\\", \\\\\"type\\\\\": \\\\\"double\\\\\"}, {\\\\\"name\\\\\": \\\\\"sulphates\\\\\", \\\\\"type\\\\\": \\\\\"double\\\\\"}, {\\\\\"name\\\\\": \\\\\"alcohol\\\\\", \\\\\"type\\\\\": \\\\\"double\\\\\"}]\", \"outputs\": \"[{\\\\\"type\\\\\": \\\\\"tensor\\\\\", \\\\\"tensor-spec\\\\\": {\\\\\"dtype\\\\\": \\\\\"float64\\\\\", \\\\\"shape\\\\\": [-1]}}]\"}}]'},\n",
       " 'tags.mlflow.source.name': {3: 'c:\\\\Users\\\\Arun Mohan\\\\.conda\\\\envs\\\\mlflowenv\\\\lib\\\\site-packages\\\\ipykernel_launcher.py'},\n",
       " 'tags.mlflow.source.type': {3: 'LOCAL'},\n",
       " 'tags.estimator_class': {3: 'sklearn.tree._classes.DecisionTreeRegressor'},\n",
       " 'tags.mlflow.user': {3: 'Arun Mohan'}}"
      ]
     },
     "execution_count": 45,
     "metadata": {},
     "output_type": "execute_result"
    }
   ],
   "source": [
    "experiment_name = 'Wine_quality_Decision_Tree'\n",
    "# get exp id by name\n",
    "exp_details = dict(mlflow.get_experiment_by_name(experiment_name))\n",
    "exp_id = exp_details['experiment_id']\n",
    "df = mlflow.search_runs([exp_id])\n",
    "best = df[df['metrics.test_score'] == df['metrics.test_score'].max()]\n",
    "print(f'Details:')\n",
    "best.to_dict()"
   ]
  },
  {
   "cell_type": "code",
   "execution_count": 46,
   "metadata": {},
   "outputs": [
    {
     "name": "stderr",
     "output_type": "stream",
     "text": [
      "Successfully registered model 'decision-tree-wine-quality-model'.\n",
      "2022/05/09 17:03:47 INFO mlflow.tracking._model_registry.client: Waiting up to 300 seconds for model version to finish creation.                     Model name: decision-tree-wine-quality-model, version 1\n",
      "Created version '1' of model 'decision-tree-wine-quality-model'.\n"
     ]
    },
    {
     "data": {
      "text/plain": [
       "<ModelVersion: creation_timestamp=1652096027662, current_stage='Staging', description=('This model version is a scikit-learn random forest for wine quality '\n",
       " 'prediction with r2 0.439'), last_updated_timestamp=1652096027741, name='decision-tree-wine-quality-model', run_id='', run_link='', source='mlruns/2/62e669c2cd7e4e748d50f87253eb262d/artifacts/model', status='READY', status_message='', tags={}, user_id='', version='1'>"
      ]
     },
     "execution_count": 46,
     "metadata": {},
     "output_type": "execute_result"
    }
   ],
   "source": [
    "mlflow.set_tracking_uri(\"http://localhost:5000\")\n",
    "\n",
    "# If a registered model with the name doesn’t exist, the method registers a new model, \n",
    "# creates Version 1, and returns a ModelVersion MLflow object. If a registered model with the name exists, the method\n",
    "# creates a new model version and returns the version object\n",
    "\n",
    "result = mlflow.register_model(\n",
    "    \"mlruns/2/62e669c2cd7e4e748d50f87253eb262d/artifacts/model\",\n",
    "    \"decision-tree-wine-quality-model\"\n",
    ")\n",
    "# lt us include details of the model\n",
    "client = MlflowClient()\n",
    "client.update_model_version(\n",
    "    name=\"decision-tree-wine-quality-model\",\n",
    "    version=1,\n",
    "    description=\"This model version is a scikit-learn random forest for wine quality prediction with r2 0.439\"\n",
    ")\n",
    "client.transition_model_version_stage(\n",
    "    name=\"decision-tree-wine-quality-model\",\n",
    "    version=1,\n",
    "    stage=\"Staging\"\n",
    ")"
   ]
  },
  {
   "cell_type": "markdown",
   "metadata": {},
   "source": [
    "<h4>List all registered models</h4>"
   ]
  },
  {
   "cell_type": "code",
   "execution_count": 47,
   "metadata": {},
   "outputs": [
    {
     "name": "stdout",
     "output_type": "stream",
     "text": [
      "{   'creation_timestamp': 1652096027608,\n",
      "    'description': '',\n",
      "    'last_updated_timestamp': 1652096027741,\n",
      "    'latest_versions': [   <ModelVersion: creation_timestamp=1652096027662, current_stage='Staging', description=('This model version is a scikit-learn random forest for wine quality '\n",
      " 'prediction with r2 0.439'), last_updated_timestamp=1652096027741, name='decision-tree-wine-quality-model', run_id='', run_link='', source='mlruns/2/62e669c2cd7e4e748d50f87253eb262d/artifacts/model', status='READY', status_message='', tags={}, user_id='', version='1'>],\n",
      "    'name': 'decision-tree-wine-quality-model',\n",
      "    'tags': {}}\n",
      "{   'creation_timestamp': 1652095979564,\n",
      "    'description': '',\n",
      "    'last_updated_timestamp': 1652095994876,\n",
      "    'latest_versions': [   <ModelVersion: creation_timestamp=1652095979619, current_stage='Production', description=('This model version is a scikit-learn random forest for wine quality '\n",
      " 'prediction with r2 0.439'), last_updated_timestamp=1652095994876, name='random-forest-wine-quality-model', run_id='', run_link='', source='mlruns/1/9f119d19982d473fa77783a8fa84dfa7/artifacts/model', status='READY', status_message='', tags={}, user_id='', version='1'>],\n",
      "    'name': 'random-forest-wine-quality-model',\n",
      "    'tags': {}}\n"
     ]
    }
   ],
   "source": [
    "\n",
    "from pprint import pprint\n",
    "\n",
    "client = MlflowClient()\n",
    "for rm in client.list_registered_models():\n",
    "    pprint(dict(rm), indent=4)\n"
   ]
  },
  {
   "cell_type": "code",
   "execution_count": 34,
   "metadata": {},
   "outputs": [],
   "source": [
    "# deleting model\n",
    "# client = MlflowClient()\n",
    "# versions=[1, 2, 3]\n",
    "# for version in versions:\n",
    "#     client.delete_model_version(name=\"random-forest-wine-quality-model\", version=version)\n",
    "\n",
    "# # Delete a registered model along with all its versions\n",
    "# client.delete_registered_model(name=\"random-forest-wine-quality-model\")"
   ]
  },
  {
   "cell_type": "markdown",
   "metadata": {},
   "source": [
    "<img src=\"../tmp/ui3.PNG\">"
   ]
  },
  {
   "cell_type": "markdown",
   "metadata": {},
   "source": [
    "<h4> Make predictions on registered model (random forest)</h4>"
   ]
  },
  {
   "cell_type": "code",
   "execution_count": 48,
   "metadata": {},
   "outputs": [],
   "source": [
    "import mlflow.pyfunc\n",
    "\n",
    "model_name = \"random-forest-wine-quality-model\"\n",
    "stage = 'Production'\n",
    "\n",
    "model = mlflow.pyfunc.load_model(\n",
    "    model_uri=f\"models:/{model_name}/{stage}\"\n",
    ")\n"
   ]
  },
  {
   "cell_type": "code",
   "execution_count": 49,
   "metadata": {},
   "outputs": [
    {
     "data": {
      "text/plain": [
       "array([5.32582927])"
      ]
     },
     "execution_count": 49,
     "metadata": {},
     "output_type": "execute_result"
    }
   ],
   "source": [
    "from sklearn.model_selection import train_test_split\n",
    "\n",
    "def load_data(data_path ='data/winequality-red.csv'):\n",
    "    data = pd.read_csv(data_path)\n",
    "    X = data.drop([\"quality\"], axis=1)\n",
    "    y = data['quality']\n",
    "    X_train,X_test,y_train, y_test =  train_test_split(X,y,test_size=0.25,random_state=42)\n",
    "    return X_train,y_train,X_test,y_test\n",
    "\n",
    "\n",
    "X_train,y_train,X_test,y_test = load_data()\n",
    "model.predict(X_test.iloc[0].values.reshape(1,-1))"
   ]
  },
  {
   "cell_type": "code",
   "execution_count": null,
   "metadata": {},
   "outputs": [],
   "source": []
  }
 ],
 "metadata": {
  "interpreter": {
   "hash": "ae96a247b687a06e2d16a19bfdf0b405f90bbd6c67c12f9823bfe17425660ed4"
  },
  "kernelspec": {
   "display_name": "Python 3.9.12 ('mlflowenv')",
   "language": "python",
   "name": "python3"
  },
  "language_info": {
   "codemirror_mode": {
    "name": "ipython",
    "version": 3
   },
   "file_extension": ".py",
   "mimetype": "text/x-python",
   "name": "python",
   "nbconvert_exporter": "python",
   "pygments_lexer": "ipython3",
   "version": "3.9.12"
  },
  "orig_nbformat": 4
 },
 "nbformat": 4,
 "nbformat_minor": 2
}
