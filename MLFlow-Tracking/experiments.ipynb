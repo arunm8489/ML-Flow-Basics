{
 "cells": [
  {
   "cell_type": "code",
   "execution_count": 6,
   "metadata": {},
   "outputs": [],
   "source": [
    "import os\n",
    "import warnings\n",
    "import sys\n",
    "\n",
    "import pandas as pd\n",
    "import numpy as np  \n",
    "\n",
    "from sklearn.metrics import mean_squared_error,mean_absolute_error,r2_score\n",
    "from sklearn.model_selection import train_test_split\n",
    "\n",
    "import mlflow\n",
    "import warnings\n",
    "\n",
    "warnings.simplefilter(\"ignore\")\n"
   ]
  },
  {
   "cell_type": "code",
   "execution_count": 7,
   "metadata": {},
   "outputs": [
    {
     "name": "stdout",
     "output_type": "stream",
     "text": [
      "(1599, 12)\n"
     ]
    },
    {
     "data": {
      "text/html": [
       "<div>\n",
       "<style scoped>\n",
       "    .dataframe tbody tr th:only-of-type {\n",
       "        vertical-align: middle;\n",
       "    }\n",
       "\n",
       "    .dataframe tbody tr th {\n",
       "        vertical-align: top;\n",
       "    }\n",
       "\n",
       "    .dataframe thead th {\n",
       "        text-align: right;\n",
       "    }\n",
       "</style>\n",
       "<table border=\"1\" class=\"dataframe\">\n",
       "  <thead>\n",
       "    <tr style=\"text-align: right;\">\n",
       "      <th></th>\n",
       "      <th>fixed acidity</th>\n",
       "      <th>volatile acidity</th>\n",
       "      <th>citric acid</th>\n",
       "      <th>residual sugar</th>\n",
       "      <th>chlorides</th>\n",
       "      <th>free sulfur dioxide</th>\n",
       "      <th>total sulfur dioxide</th>\n",
       "      <th>density</th>\n",
       "      <th>pH</th>\n",
       "      <th>sulphates</th>\n",
       "      <th>alcohol</th>\n",
       "      <th>quality</th>\n",
       "    </tr>\n",
       "  </thead>\n",
       "  <tbody>\n",
       "    <tr>\n",
       "      <th>0</th>\n",
       "      <td>7.4</td>\n",
       "      <td>0.70</td>\n",
       "      <td>0.00</td>\n",
       "      <td>1.9</td>\n",
       "      <td>0.076</td>\n",
       "      <td>11.0</td>\n",
       "      <td>34.0</td>\n",
       "      <td>0.9978</td>\n",
       "      <td>3.51</td>\n",
       "      <td>0.56</td>\n",
       "      <td>9.4</td>\n",
       "      <td>5</td>\n",
       "    </tr>\n",
       "    <tr>\n",
       "      <th>1</th>\n",
       "      <td>7.8</td>\n",
       "      <td>0.88</td>\n",
       "      <td>0.00</td>\n",
       "      <td>2.6</td>\n",
       "      <td>0.098</td>\n",
       "      <td>25.0</td>\n",
       "      <td>67.0</td>\n",
       "      <td>0.9968</td>\n",
       "      <td>3.20</td>\n",
       "      <td>0.68</td>\n",
       "      <td>9.8</td>\n",
       "      <td>5</td>\n",
       "    </tr>\n",
       "    <tr>\n",
       "      <th>2</th>\n",
       "      <td>7.8</td>\n",
       "      <td>0.76</td>\n",
       "      <td>0.04</td>\n",
       "      <td>2.3</td>\n",
       "      <td>0.092</td>\n",
       "      <td>15.0</td>\n",
       "      <td>54.0</td>\n",
       "      <td>0.9970</td>\n",
       "      <td>3.26</td>\n",
       "      <td>0.65</td>\n",
       "      <td>9.8</td>\n",
       "      <td>5</td>\n",
       "    </tr>\n",
       "  </tbody>\n",
       "</table>\n",
       "</div>"
      ],
      "text/plain": [
       "   fixed acidity  volatile acidity  citric acid  residual sugar  chlorides  \\\n",
       "0            7.4              0.70         0.00             1.9      0.076   \n",
       "1            7.8              0.88         0.00             2.6      0.098   \n",
       "2            7.8              0.76         0.04             2.3      0.092   \n",
       "\n",
       "   free sulfur dioxide  total sulfur dioxide  density    pH  sulphates  \\\n",
       "0                 11.0                  34.0   0.9978  3.51       0.56   \n",
       "1                 25.0                  67.0   0.9968  3.20       0.68   \n",
       "2                 15.0                  54.0   0.9970  3.26       0.65   \n",
       "\n",
       "   alcohol  quality  \n",
       "0      9.4        5  \n",
       "1      9.8        5  \n",
       "2      9.8        5  "
      ]
     },
     "execution_count": 7,
     "metadata": {},
     "output_type": "execute_result"
    }
   ],
   "source": [
    "data_path = 'data/winequality-red.csv'\n",
    "df = pd.read_csv(data_path)\n",
    "print(df.shape)\n",
    "df.head(3)"
   ]
  },
  {
   "cell_type": "markdown",
   "metadata": {},
   "source": [
    "### Tracking Experiments\n",
    "\n",
    "MLflow runs can be recorded to local files, to a SQLAlchemy compatible database, or remotely to a tracking server. ML Flow supports 2 types of tracking stores: file store and database store\n",
    "\n",
    "* Local file path where data is stored locally.\n",
    "* Database like mysql,sqlite,postgres\n",
    "* remote tracking server(https://my-server:5000)\n",
    "* Databricks works space.\n",
    "\n",
    "Two main components of storage:\n",
    "\n",
    "* Backend store storing entities(runs, parameters, metrics, tags, notes, metadata, etc).\n",
    "* Artifact store storing artifacts(files, models, images, in-memory objects, or model summary, etc).ie, basically it store whatever is a file. Some examples of artifact store include amazon s3, azure blob storage,nfs,ftp server etc.\n",
    "\n",
    "\n"
   ]
  },
  {
   "cell_type": "code",
   "execution_count": 8,
   "metadata": {},
   "outputs": [
    {
     "data": {
      "text/plain": [
       "('http://127.0.0.1:5000', 'sqlite:///mlflow.db')"
      ]
     },
     "execution_count": 8,
     "metadata": {},
     "output_type": "execute_result"
    }
   ],
   "source": [
    "#mlflow server --backend-store-uri mlruns/ --default-artifact-root mlruns/ --host 127.0.0.1 --port 5000\n",
    "#mlflow server --backend-store-uri sqlite:///mlflow.db --default-artifact-root mlruns/ --host 127.0.0.1 --port 5000\n",
    "# (if we need model registry we need to save backend store in sql db)\n",
    "\n",
    "\n",
    "remote_server_uri = \"http://127.0.0.1:5000\"\n",
    "backend_store_uri = \"sqlite:///mlflow.db\"\n",
    "mlflow.set_registry_uri(remote_server_uri)\n",
    "mlflow.set_tracking_uri(backend_store_uri)\n",
    "mlflow.tracking.get_registry_uri(),mlflow.tracking.get_tracking_uri()"
   ]
  },
  {
   "cell_type": "markdown",
   "metadata": {},
   "source": [
    "What do we track?\n",
    "\n",
    "* code version:  git commit hash used for the run\n",
    "* start and end time: Start and end time of the run\n",
    "* Source: What code run?\n",
    "* parameters: key value paramteres\n",
    "* metrics: metrics of model. key-value pairs\n",
    "* Artifacts: output files in any format\n",
    "\n",
    "\n",
    "There are two ways to login.\n",
    "* Manual logging\n",
    "* Automatic logging\n",
    "\n",
    "<h4>1. Manual Logging</h4>\n",
    "\n",
    "Here we will use manual login first. for that we can use following-\n",
    "\n",
    "* with mlflow.start_run(run_name=run_name) as run ->  start a run\n",
    "* run.info -> provides details like run id (run.info.run_uuid), experiment id(run.info.experiment_id) etc\n",
    "* mlflow.log_params({Key1:value1,key2:value2}) -> log parameters\n",
    "* mlflow.log_metrics({Key1:value1,key2:value2}) -> log metrics\n",
    "* mlflow.log_artifact(data_path) -> saves data used for training\n",
    "* mlflow.sklearn.log_model(model, \"model\") -> saves model\n"
   ]
  },
  {
   "cell_type": "code",
   "execution_count": 9,
   "metadata": {},
   "outputs": [
    {
     "name": "stderr",
     "output_type": "stream",
     "text": [
      "INFO  [alembic.runtime.migration] Context impl SQLiteImpl.\n",
      "INFO  [alembic.runtime.migration] Will assume non-transactional DDL.\n",
      "2022/05/09 16:07:25 INFO mlflow.tracking.fluent: Experiment with name 'Wine_quality_Random_Forest' does not exist. Creating a new experiment.\n"
     ]
    },
    {
     "data": {
      "text/plain": [
       "<Experiment: artifact_location='./mlruns/1', experiment_id='1', lifecycle_stage='active', name='Wine_quality_Random_Forest', tags={}>"
      ]
     },
     "execution_count": 9,
     "metadata": {},
     "output_type": "execute_result"
    }
   ],
   "source": [
    "# set experiment name\n",
    "EXP_NAME = 'Wine_quality_Random_Forest'\n",
    "mlflow.set_experiment(EXP_NAME)"
   ]
  },
  {
   "cell_type": "code",
   "execution_count": 10,
   "metadata": {},
   "outputs": [],
   "source": [
    "from sklearn.ensemble import RandomForestRegressor\n",
    "\n",
    "\n",
    "def eval_metric(actual,pred):\n",
    "    #compute relevant metrics\n",
    "    rmse = np.sqrt(mean_squared_error(actual,pred))\n",
    "    mae = mean_absolute_error(actual,pred)\n",
    "    r2 = r2_score(actual,pred)\n",
    "    return rmse,mae,r2  \n",
    "\n",
    "def load_data(data_path ='data/winequality-red.csv'):\n",
    "    data = pd.read_csv(data_path)\n",
    "    X = data.drop([\"quality\"], axis=1)\n",
    "    y = data['quality']\n",
    "    X_train,X_test,y_train, y_test =  train_test_split(X,y,test_size=0.25,random_state=42)\n",
    "    return X_train,y_train,X_test,y_test\n",
    "\n",
    "\n",
    "def train_model(no_estimators,max_depth,run_name=\"best\"):\n",
    "    np.random.seed(40)\n",
    "    X_train,y_train,X_test,y_test = load_data()\n",
    "    with mlflow.start_run(run_name=run_name) as run:\n",
    "        print(f'Run id: {run.info.run_uuid}')\n",
    "        print(f'Run name: {run_name}')\n",
    "        print(f'Exp id: {run.info.experiment_id}')\n",
    "        model = RandomForestRegressor(n_estimators=no_estimators,max_depth=max_depth)\n",
    "        model.fit(X_train,y_train)\n",
    "        y_train_pred = model.predict(X_train)\n",
    "        y_test_pred = model.predict(X_test)\n",
    "\n",
    "        train_metrics = eval_metric(y_train,y_train_pred)\n",
    "        test_metrics = eval_metric(y_test,y_test_pred) \n",
    "\n",
    "        mlflow.log_params({\"n_estimators\":no_estimators,\"max_depth\":max_depth})\n",
    "        mlflow.log_metrics({\"train_rmse\":train_metrics[0],\"train_mae\": train_metrics[1], \"r2\": train_metrics[2]})\n",
    "        mlflow.log_metrics({\"test_rmse\":test_metrics[0],\"test_mae\": test_metrics[1], \"r2\": test_metrics[2]})\n",
    "        mlflow.log_artifact(data_path)\n",
    "        print(\"Save to: {}\".format(mlflow.get_artifact_uri()))\n",
    "        mlflow.sklearn.log_model(model, \"model\")\n",
    "        \n",
    "        # Print out metrics\n",
    "        print(f\"Random Forest model:\")  \n",
    "        print(f\"n_estimators:{no_estimators}, max_depth:{max_depth}\")\n",
    "        print(\"  Train RMSE: %s\" % train_metrics[0])\n",
    "        print(\"  Train MAE: %s\" % train_metrics[1])\n",
    "        print(\"  Train R2: %s\" % train_metrics[2])\n",
    "        print('--'*50)\n",
    "        print(\"  Test RMSE: %s\" % test_metrics[0])\n",
    "        print(\"  Test MAE: %s\" % test_metrics[1])\n",
    "        print(\"  Test R2: %s\" % test_metrics[2])\n"
   ]
  },
  {
   "cell_type": "code",
   "execution_count": 11,
   "metadata": {},
   "outputs": [
    {
     "name": "stdout",
     "output_type": "stream",
     "text": [
      "Run id: ed7620729b374017baf95b35a74a3180\n",
      "Run name: RF_0\n",
      "Exp id: 1\n",
      "Save to: ./mlruns/1/ed7620729b374017baf95b35a74a3180/artifacts\n",
      "Random Forest model:\n",
      "n_estimators:100, max_depth:5\n",
      "  Train RMSE: 0.5435386929189447\n",
      "  Train MAE: 0.4231440290642347\n",
      "  Train R2: 0.5540704718491849\n",
      "----------------------------------------------------------------------------------------------------\n",
      "  Test RMSE: 0.6112396588832881\n",
      "  Test MAE: 0.48762102125993073\n",
      "  Test R2: 0.39602700384257294\n",
      "____________________________________________________________________________________________________________________________________________\n",
      "Run id: 9f119d19982d473fa77783a8fa84dfa7\n",
      "Run name: RF_1\n",
      "Exp id: 1\n",
      "Save to: ./mlruns/1/9f119d19982d473fa77783a8fa84dfa7/artifacts\n",
      "Random Forest model:\n",
      "n_estimators:300, max_depth:7\n",
      "  Train RMSE: 0.4473604176962957\n",
      "  Train MAE: 0.34690298225856253\n",
      "  Train R2: 0.6979210868093256\n",
      "----------------------------------------------------------------------------------------------------\n",
      "  Test RMSE: 0.5885775065871136\n",
      "  Test MAE: 0.465242675775956\n",
      "  Test R2: 0.43998224802577834\n",
      "____________________________________________________________________________________________________________________________________________\n",
      "Run id: ae913b31a8304ae2800a34f48746097f\n",
      "Run name: RF_2\n",
      "Exp id: 1\n",
      "Save to: ./mlruns/1/ae913b31a8304ae2800a34f48746097f/artifacts\n",
      "Random Forest model:\n",
      "n_estimators:300, max_depth:3\n",
      "  Train RMSE: 0.6251903970275068\n",
      "  Train MAE: 0.4864775604863285\n",
      "  Train R2: 0.41003004269506393\n",
      "----------------------------------------------------------------------------------------------------\n",
      "  Test RMSE: 0.6405611372405683\n",
      "  Test MAE: 0.515764961310065\n",
      "  Test R2: 0.3366913737118583\n",
      "____________________________________________________________________________________________________________________________________________\n"
     ]
    }
   ],
   "source": [
    "# for i,par in enumerate([(100,5),(200,5),(200,7),(300,5),(300,7),(300,3)]):\n",
    "for i,par in enumerate([(100,5),(300,7),(300,3)]):\n",
    "    n_estim,max_depth = par[0],par[1]\n",
    "    run_name = 'RF_'+str(i)\n",
    "    train_model(no_estimators=n_estim,max_depth=max_depth,run_name=run_name)\n",
    "    print('__'*70)"
   ]
  },
  {
   "cell_type": "markdown",
   "metadata": {},
   "source": [
    "```\n",
    "Note:\n",
    "\n",
    "Always its important to note that we need to excute the command to run mlflow with backend store and artifact root in correct location.\n",
    "\n",
    "```"
   ]
  },
  {
   "cell_type": "markdown",
   "metadata": {},
   "source": [
    "<h4>2. Automatic Logging</h4>\n",
    "\n",
    "Let see how automatic logging works with sklearn.\n",
    "\n",
    "- Saves Parameters obtained by estimator.get_params and scores obtained by estimator.get_score .(so we have limited use cases and its better to use manual logging)"
   ]
  },
  {
   "cell_type": "code",
   "execution_count": 12,
   "metadata": {},
   "outputs": [
    {
     "name": "stdout",
     "output_type": "stream",
     "text": [
      "Name: Wine_quality_Decision_Tree\n",
      "Experiment_id: 2\n",
      "Artifact Location: ./mlruns/2\n",
      "Tags: {'sklearn.framework': 'LR'}\n",
      "Lifecycle_stage: active\n"
     ]
    }
   ],
   "source": [
    "#let us create a new experiment in a different way using mlflow client api\n",
    "\n",
    "# Create an experiment with a name that is unique and case sensitive.\n",
    "\n",
    "from mlflow.tracking import MlflowClient\n",
    "from sklearn.linear_model import LinearRegression\n",
    "\n",
    "client = MlflowClient()\n",
    "EXP_NAME = 'Wine_quality_Decision_Tree'\n",
    "experiment_id = client.create_experiment(EXP_NAME)\n",
    "# here we will also set experiment tag\n",
    "client.set_experiment_tag(experiment_id, \"sklearn.framework\", \"LR\")\n",
    "\n",
    "# Fetch experiment metadata information\n",
    "experiment = client.get_experiment(experiment_id)\n",
    "print(\"Name: {}\".format(experiment.name))\n",
    "print(\"Experiment_id: {}\".format(experiment.experiment_id))\n",
    "print(\"Artifact Location: {}\".format(experiment.artifact_location))\n",
    "print(\"Tags: {}\".format(experiment.tags))\n",
    "print(\"Lifecycle_stage: {}\".format(experiment.lifecycle_stage))\n"
   ]
  },
  {
   "cell_type": "code",
   "execution_count": 13,
   "metadata": {},
   "outputs": [],
   "source": [
    "from sklearn.tree import DecisionTreeRegressor\n",
    "\n",
    "def load_data(data_path ='data/winequality-red.csv'):\n",
    "    data = pd.read_csv(data_path)\n",
    "    X = data.drop([\"quality\"], axis=1)\n",
    "    y = data['quality']\n",
    "    X_train,X_test,y_train, y_test =  train_test_split(X,y,test_size=0.25,random_state=42)\n",
    "    return X_train,y_train,X_test,y_test\n",
    "    \n",
    "\n",
    "    \n",
    "def fetch_logged_data(run_id):\n",
    "    client = mlflow.tracking.MlflowClient()\n",
    "    data = client.get_run(run_id).data\n",
    "    # tags = {k: v for k, v in data.tags.items() if not k.startswith(\"mlflow.\")}\n",
    "    artifacts = [f.path for f in client.list_artifacts(run_id, \"model\")]\n",
    "    print(\"run_id: {}\".format(run_id))\n",
    "    print(\"artifacts: {}\".format(artifacts))\n",
    "    print(\"params: {}\".format(data.params))\n",
    "    print(\"metrics: {}\".format(data.metrics))\n",
    "\n",
    "\n",
    "def train_model(max_depth,run_name=\"best\",exp_name=EXP_NAME):\n",
    "    np.random.seed(40)\n",
    "    X_train,y_train,X_test,y_test = load_data()\n",
    "    mlflow.sklearn.autolog()\n",
    "    experiment = mlflow.get_experiment_by_name(EXP_NAME)\n",
    "    with mlflow.start_run(experiment_id=experiment.experiment_id,run_name=run_name) as run:\n",
    "        print(f'Exp id: {run.info.experiment_id}')\n",
    "        print(f'Run name: {run_name}')\n",
    "        run_id = run.info.run_uuid\n",
    "        model = DecisionTreeRegressor(max_depth=max_depth)\n",
    "        model.fit(X_train,y_train)\n",
    "        mlflow.sklearn.eval_and_log_metrics(model, X_test, y_test, prefix=\"test_\")\n",
    "        print(run_id)\n",
    "        fetch_logged_data(run_id)\n",
    "        \n",
    "  \n"
   ]
  },
  {
   "cell_type": "code",
   "execution_count": 14,
   "metadata": {},
   "outputs": [
    {
     "name": "stdout",
     "output_type": "stream",
     "text": [
      "Exp id: 2\n",
      "Run name: DT_0\n",
      "a4cca023adf6435cb9b5e87948f42d22\n",
      "run_id: a4cca023adf6435cb9b5e87948f42d22\n",
      "artifacts: ['model/MLmodel', 'model/conda.yaml', 'model/model.pkl', 'model/requirements.txt']\n",
      "params: {'ccp_alpha': '0.0', 'criterion': 'squared_error', 'max_depth': '3', 'max_features': 'None', 'max_leaf_nodes': 'None', 'min_impurity_decrease': '0.0', 'min_samples_leaf': '1', 'min_samples_split': '2', 'min_weight_fraction_leaf': '0.0', 'random_state': 'None', 'splitter': 'best'}\n",
      "metrics: {'training_mse': 0.4254849819252294, 'training_mae': 0.5010648728230344, 'training_r2_score': 0.357771557489063, 'training_rmse': 0.6522920986224112, 'training_score': 0.357771557489063, 'test_mse': 0.4592138510123652, 'test_mae': 0.5384902859594534, 'test_r2_score': 0.2576487379441431, 'test_rmse': 0.6776531937594371, 'test_score': 0.2576487379441431}\n",
      "____________________________________________________________________________________________________________________________________________\n",
      "Exp id: 2\n",
      "Run name: DT_1\n",
      "62e669c2cd7e4e748d50f87253eb262d\n",
      "run_id: 62e669c2cd7e4e748d50f87253eb262d\n",
      "artifacts: ['model/MLmodel', 'model/conda.yaml', 'model/model.pkl', 'model/requirements.txt']\n",
      "params: {'ccp_alpha': '0.0', 'criterion': 'squared_error', 'max_depth': '5', 'max_features': 'None', 'max_leaf_nodes': 'None', 'min_impurity_decrease': '0.0', 'min_samples_leaf': '1', 'min_samples_split': '2', 'min_weight_fraction_leaf': '0.0', 'random_state': 'None', 'splitter': 'best'}\n",
      "metrics: {'training_mse': 0.34137239443224554, 'training_mae': 0.4383337776650221, 'training_r2_score': 0.4847313759455386, 'training_rmse': 0.584270822848656, 'training_score': 0.4847313759455386, 'test_mse': 0.4258096341998065, 'test_mae': 0.49453849729558486, 'test_r2_score': 0.31164898740117164, 'test_rmse': 0.6525409061505696, 'test_score': 0.31164898740117164}\n",
      "____________________________________________________________________________________________________________________________________________\n",
      "Exp id: 2\n",
      "Run name: DT_2\n",
      "a6e9358e9d804c6f91bee08487f542ff\n",
      "run_id: a6e9358e9d804c6f91bee08487f542ff\n",
      "artifacts: ['model/MLmodel', 'model/conda.yaml', 'model/model.pkl', 'model/requirements.txt']\n",
      "params: {'ccp_alpha': '0.0', 'criterion': 'squared_error', 'max_depth': '10', 'max_features': 'None', 'max_leaf_nodes': 'None', 'min_impurity_decrease': '0.0', 'min_samples_leaf': '1', 'min_samples_split': '2', 'min_weight_fraction_leaf': '0.0', 'random_state': 'None', 'splitter': 'best'}\n",
      "metrics: {'training_mse': 0.11575269507652604, 'training_mae': 0.19538556459331963, 'training_r2_score': 0.8252824982468959, 'training_rmse': 0.3402244774799809, 'training_score': 0.8252824982468959, 'test_mse': 0.5444964054633847, 'test_mae': 0.5020112955458985, 'test_r2_score': 0.11978353246636464, 'test_rmse': 0.7378999969259958, 'test_score': 0.11978353246636464}\n",
      "____________________________________________________________________________________________________________________________________________\n",
      "Exp id: 2\n",
      "Run name: DT_3\n",
      "85e443fac7454f809510323d757613b6\n",
      "run_id: 85e443fac7454f809510323d757613b6\n",
      "artifacts: ['model/MLmodel', 'model/conda.yaml', 'model/model.pkl', 'model/requirements.txt']\n",
      "params: {'ccp_alpha': '0.0', 'criterion': 'squared_error', 'max_depth': '12', 'max_features': 'None', 'max_leaf_nodes': 'None', 'min_impurity_decrease': '0.0', 'min_samples_leaf': '1', 'min_samples_split': '2', 'min_weight_fraction_leaf': '0.0', 'random_state': 'None', 'splitter': 'best'}\n",
      "metrics: {'training_mse': 0.06633588922110138, 'training_mae': 0.11753267442695196, 'training_r2_score': 0.8998723888578221, 'training_rmse': 0.2575575454555766, 'training_score': 0.8998723888578221, 'test_mse': 0.6007615726930199, 'test_mae': 0.4937587293978902, 'test_r2_score': 0.02882696003149099, 'test_rmse': 0.775088106406633, 'test_score': 0.02882696003149099}\n",
      "____________________________________________________________________________________________________________________________________________\n",
      "Exp id: 2\n",
      "Run name: DT_4\n",
      "e58a943cc528442290da9c48d9ae9a96\n",
      "run_id: e58a943cc528442290da9c48d9ae9a96\n",
      "artifacts: ['model/MLmodel', 'model/conda.yaml', 'model/model.pkl', 'model/requirements.txt']\n",
      "params: {'ccp_alpha': '0.0', 'criterion': 'squared_error', 'max_depth': '15', 'max_features': 'None', 'max_leaf_nodes': 'None', 'min_impurity_decrease': '0.0', 'min_samples_leaf': '1', 'min_samples_split': '2', 'min_weight_fraction_leaf': '0.0', 'random_state': 'None', 'splitter': 'best'}\n",
      "metrics: {'training_mse': 0.024799896570343573, 'training_mae': 0.04309656899155239, 'training_r2_score': 0.9625669538869812, 'training_rmse': 0.15747982909040628, 'training_score': 0.9625669538869812, 'test_mse': 0.6496258386655702, 'test_mae': 0.4949558763931104, 'test_r2_score': -0.05016553863593076, 'test_rmse': 0.8059936964180119, 'test_score': -0.05016553863593076}\n",
      "____________________________________________________________________________________________________________________________________________\n"
     ]
    }
   ],
   "source": [
    "for i,max_depth in enumerate([3,5,10,12,15]):\n",
    "    run_name = 'DT_'+str(i)\n",
    "    train_model(max_depth=max_depth,run_name=run_name)\n",
    "    print('__'*70)"
   ]
  },
  {
   "cell_type": "markdown",
   "metadata": {},
   "source": [
    "\n",
    "<h4>More Operations</h4>\n",
    "<h5>Fetching details regarding experiments</h5>"
   ]
  },
  {
   "cell_type": "code",
   "execution_count": 15,
   "metadata": {},
   "outputs": [
    {
     "data": {
      "text/plain": [
       "[<Experiment: artifact_location='mlruns/0', experiment_id='0', lifecycle_stage='active', name='Default', tags={}>,\n",
       " <Experiment: artifact_location='./mlruns/1', experiment_id='1', lifecycle_stage='active', name='Wine_quality_Random_Forest', tags={}>,\n",
       " <Experiment: artifact_location='./mlruns/2', experiment_id='2', lifecycle_stage='active', name='Wine_quality_Decision_Tree', tags={'sklearn.framework': 'LR'}>]"
      ]
     },
     "execution_count": 15,
     "metadata": {},
     "output_type": "execute_result"
    }
   ],
   "source": [
    "#list all experiments\n",
    "from  mlflow.tracking import MlflowClient\n",
    "client = MlflowClient()\n",
    "experiments = client.list_experiments()\n",
    "experiments"
   ]
  },
  {
   "cell_type": "code",
   "execution_count": 16,
   "metadata": {},
   "outputs": [
    {
     "name": "stdout",
     "output_type": "stream",
     "text": [
      "Name: Wine_quality_Random_Forest\n",
      "Experiment_id: 1\n",
      "Artifact Location: ./mlruns/1\n",
      "Tags: {}\n",
      "Lifecycle_stage: active\n"
     ]
    }
   ],
   "source": [
    "\n",
    "# Fetch experiment metadata information\n",
    "experiment_id = str(1)\n",
    "experiment = client.get_experiment(experiment_id)\n",
    "print(\"Name: {}\".format(experiment.name))\n",
    "print(\"Experiment_id: {}\".format(experiment.experiment_id))\n",
    "print(\"Artifact Location: {}\".format(experiment.artifact_location))\n",
    "print(\"Tags: {}\".format(experiment.tags))\n",
    "print(\"Lifecycle_stage: {}\".format(experiment.lifecycle_stage))"
   ]
  },
  {
   "cell_type": "markdown",
   "metadata": {},
   "source": [
    "<h5>Fetch all run id informations of an experiment</h5>"
   ]
  },
  {
   "cell_type": "code",
   "execution_count": 17,
   "metadata": {},
   "outputs": [
    {
     "data": {
      "text/html": [
       "<div>\n",
       "<style scoped>\n",
       "    .dataframe tbody tr th:only-of-type {\n",
       "        vertical-align: middle;\n",
       "    }\n",
       "\n",
       "    .dataframe tbody tr th {\n",
       "        vertical-align: top;\n",
       "    }\n",
       "\n",
       "    .dataframe thead th {\n",
       "        text-align: right;\n",
       "    }\n",
       "</style>\n",
       "<table border=\"1\" class=\"dataframe\">\n",
       "  <thead>\n",
       "    <tr style=\"text-align: right;\">\n",
       "      <th></th>\n",
       "      <th>run_id</th>\n",
       "      <th>experiment_id</th>\n",
       "      <th>status</th>\n",
       "      <th>artifact_uri</th>\n",
       "      <th>start_time</th>\n",
       "      <th>end_time</th>\n",
       "      <th>metrics.train_rmse</th>\n",
       "      <th>metrics.train_mae</th>\n",
       "      <th>metrics.test_mae</th>\n",
       "      <th>metrics.r2</th>\n",
       "      <th>metrics.test_rmse</th>\n",
       "      <th>params.n_estimators</th>\n",
       "      <th>params.max_depth</th>\n",
       "      <th>tags.mlflow.user</th>\n",
       "      <th>tags.mlflow.log-model.history</th>\n",
       "      <th>tags.mlflow.runName</th>\n",
       "      <th>tags.mlflow.source.name</th>\n",
       "      <th>tags.mlflow.source.type</th>\n",
       "    </tr>\n",
       "  </thead>\n",
       "  <tbody>\n",
       "    <tr>\n",
       "      <th>0</th>\n",
       "      <td>ae913b31a8304ae2800a34f48746097f</td>\n",
       "      <td>1</td>\n",
       "      <td>FINISHED</td>\n",
       "      <td>./mlruns/1/ae913b31a8304ae2800a34f48746097f/ar...</td>\n",
       "      <td>2022-05-09 10:38:23.221000+00:00</td>\n",
       "      <td>2022-05-09 10:38:31.985000+00:00</td>\n",
       "      <td>0.625190</td>\n",
       "      <td>0.486478</td>\n",
       "      <td>0.515765</td>\n",
       "      <td>0.336691</td>\n",
       "      <td>0.640561</td>\n",
       "      <td>300</td>\n",
       "      <td>3</td>\n",
       "      <td>Arun Mohan</td>\n",
       "      <td>[{\"run_id\": \"ae913b31a8304ae2800a34f48746097f\"...</td>\n",
       "      <td>RF_2</td>\n",
       "      <td>c:\\Users\\Arun Mohan\\.conda\\envs\\mlflowenv\\lib\\...</td>\n",
       "      <td>LOCAL</td>\n",
       "    </tr>\n",
       "    <tr>\n",
       "      <th>1</th>\n",
       "      <td>9f119d19982d473fa77783a8fa84dfa7</td>\n",
       "      <td>1</td>\n",
       "      <td>FINISHED</td>\n",
       "      <td>./mlruns/1/9f119d19982d473fa77783a8fa84dfa7/ar...</td>\n",
       "      <td>2022-05-09 10:38:08.469000+00:00</td>\n",
       "      <td>2022-05-09 10:38:23.168000+00:00</td>\n",
       "      <td>0.447360</td>\n",
       "      <td>0.346903</td>\n",
       "      <td>0.465243</td>\n",
       "      <td>0.439982</td>\n",
       "      <td>0.588578</td>\n",
       "      <td>300</td>\n",
       "      <td>7</td>\n",
       "      <td>Arun Mohan</td>\n",
       "      <td>[{\"run_id\": \"9f119d19982d473fa77783a8fa84dfa7\"...</td>\n",
       "      <td>RF_1</td>\n",
       "      <td>c:\\Users\\Arun Mohan\\.conda\\envs\\mlflowenv\\lib\\...</td>\n",
       "      <td>LOCAL</td>\n",
       "    </tr>\n",
       "    <tr>\n",
       "      <th>2</th>\n",
       "      <td>ed7620729b374017baf95b35a74a3180</td>\n",
       "      <td>1</td>\n",
       "      <td>FINISHED</td>\n",
       "      <td>./mlruns/1/ed7620729b374017baf95b35a74a3180/ar...</td>\n",
       "      <td>2022-05-09 10:37:56.759000+00:00</td>\n",
       "      <td>2022-05-09 10:38:08.365000+00:00</td>\n",
       "      <td>0.543539</td>\n",
       "      <td>0.423144</td>\n",
       "      <td>0.487621</td>\n",
       "      <td>0.396027</td>\n",
       "      <td>0.611240</td>\n",
       "      <td>100</td>\n",
       "      <td>5</td>\n",
       "      <td>Arun Mohan</td>\n",
       "      <td>[{\"run_id\": \"ed7620729b374017baf95b35a74a3180\"...</td>\n",
       "      <td>RF_0</td>\n",
       "      <td>c:\\Users\\Arun Mohan\\.conda\\envs\\mlflowenv\\lib\\...</td>\n",
       "      <td>LOCAL</td>\n",
       "    </tr>\n",
       "  </tbody>\n",
       "</table>\n",
       "</div>"
      ],
      "text/plain": [
       "                             run_id experiment_id    status  \\\n",
       "0  ae913b31a8304ae2800a34f48746097f             1  FINISHED   \n",
       "1  9f119d19982d473fa77783a8fa84dfa7             1  FINISHED   \n",
       "2  ed7620729b374017baf95b35a74a3180             1  FINISHED   \n",
       "\n",
       "                                        artifact_uri  \\\n",
       "0  ./mlruns/1/ae913b31a8304ae2800a34f48746097f/ar...   \n",
       "1  ./mlruns/1/9f119d19982d473fa77783a8fa84dfa7/ar...   \n",
       "2  ./mlruns/1/ed7620729b374017baf95b35a74a3180/ar...   \n",
       "\n",
       "                        start_time                         end_time  \\\n",
       "0 2022-05-09 10:38:23.221000+00:00 2022-05-09 10:38:31.985000+00:00   \n",
       "1 2022-05-09 10:38:08.469000+00:00 2022-05-09 10:38:23.168000+00:00   \n",
       "2 2022-05-09 10:37:56.759000+00:00 2022-05-09 10:38:08.365000+00:00   \n",
       "\n",
       "   metrics.train_rmse  metrics.train_mae  metrics.test_mae  metrics.r2  \\\n",
       "0            0.625190           0.486478          0.515765    0.336691   \n",
       "1            0.447360           0.346903          0.465243    0.439982   \n",
       "2            0.543539           0.423144          0.487621    0.396027   \n",
       "\n",
       "   metrics.test_rmse params.n_estimators params.max_depth tags.mlflow.user  \\\n",
       "0           0.640561                 300                3       Arun Mohan   \n",
       "1           0.588578                 300                7       Arun Mohan   \n",
       "2           0.611240                 100                5       Arun Mohan   \n",
       "\n",
       "                       tags.mlflow.log-model.history tags.mlflow.runName  \\\n",
       "0  [{\"run_id\": \"ae913b31a8304ae2800a34f48746097f\"...                RF_2   \n",
       "1  [{\"run_id\": \"9f119d19982d473fa77783a8fa84dfa7\"...                RF_1   \n",
       "2  [{\"run_id\": \"ed7620729b374017baf95b35a74a3180\"...                RF_0   \n",
       "\n",
       "                             tags.mlflow.source.name tags.mlflow.source.type  \n",
       "0  c:\\Users\\Arun Mohan\\.conda\\envs\\mlflowenv\\lib\\...                   LOCAL  \n",
       "1  c:\\Users\\Arun Mohan\\.conda\\envs\\mlflowenv\\lib\\...                   LOCAL  \n",
       "2  c:\\Users\\Arun Mohan\\.conda\\envs\\mlflowenv\\lib\\...                   LOCAL  "
      ]
     },
     "execution_count": 17,
     "metadata": {},
     "output_type": "execute_result"
    }
   ],
   "source": [
    "experiment_name = \"Wine_quality_Random_Forest\"\n",
    "\n",
    "# get exp id by name\n",
    "exp_details = dict(mlflow.get_experiment_by_name(experiment_name))\n",
    "exp_id = exp_details['experiment_id']\n",
    "df = mlflow.search_runs([exp_id])\n",
    "df"
   ]
  },
  {
   "cell_type": "markdown",
   "metadata": {},
   "source": [
    "<h5>Fetch information of a run by run id</h5>"
   ]
  },
  {
   "cell_type": "code",
   "execution_count": 18,
   "metadata": {},
   "outputs": [
    {
     "ename": "MlflowException",
     "evalue": "Run with id=663e342cb43745efbab3b00fdb744d20 not found",
     "output_type": "error",
     "traceback": [
      "\u001b[1;31m---------------------------------------------------------------------------\u001b[0m",
      "\u001b[1;31mMlflowException\u001b[0m                           Traceback (most recent call last)",
      "\u001b[1;32mc:\\Users\\Arun Mohan\\MY SPACE\\mlflow\\MLFlow-Tracking\\experiments.ipynb Cell 20'\u001b[0m in \u001b[0;36m<cell line: 3>\u001b[1;34m()\u001b[0m\n\u001b[0;32m      <a href='vscode-notebook-cell:/c%3A/Users/Arun%20Mohan/MY%20SPACE/mlflow/MLFlow-Tracking/experiments.ipynb#ch0000019?line=0'>1</a>\u001b[0m run_id \u001b[39m=\u001b[39m \u001b[39m'\u001b[39m\u001b[39m663e342cb43745efbab3b00fdb744d20\u001b[39m\u001b[39m'\u001b[39m\n\u001b[0;32m      <a href='vscode-notebook-cell:/c%3A/Users/Arun%20Mohan/MY%20SPACE/mlflow/MLFlow-Tracking/experiments.ipynb#ch0000019?line=1'>2</a>\u001b[0m client \u001b[39m=\u001b[39m mlflow\u001b[39m.\u001b[39mtracking\u001b[39m.\u001b[39mMlflowClient()\n\u001b[1;32m----> <a href='vscode-notebook-cell:/c%3A/Users/Arun%20Mohan/MY%20SPACE/mlflow/MLFlow-Tracking/experiments.ipynb#ch0000019?line=2'>3</a>\u001b[0m data \u001b[39m=\u001b[39m client\u001b[39m.\u001b[39;49mget_run(run_id)\u001b[39m.\u001b[39mdata\n\u001b[0;32m      <a href='vscode-notebook-cell:/c%3A/Users/Arun%20Mohan/MY%20SPACE/mlflow/MLFlow-Tracking/experiments.ipynb#ch0000019?line=3'>4</a>\u001b[0m data\n",
      "File \u001b[1;32mc:\\Users\\Arun Mohan\\.conda\\envs\\mlflowenv\\lib\\site-packages\\mlflow\\tracking\\client.py:150\u001b[0m, in \u001b[0;36mMlflowClient.get_run\u001b[1;34m(self, run_id)\u001b[0m\n\u001b[0;32m    <a href='file:///c%3A/Users/Arun%20Mohan/.conda/envs/mlflowenv/lib/site-packages/mlflow/tracking/client.py?line=111'>112</a>\u001b[0m \u001b[39mdef\u001b[39;00m \u001b[39mget_run\u001b[39m(\u001b[39mself\u001b[39m, run_id: \u001b[39mstr\u001b[39m) \u001b[39m-\u001b[39m\u001b[39m>\u001b[39m Run:\n\u001b[0;32m    <a href='file:///c%3A/Users/Arun%20Mohan/.conda/envs/mlflowenv/lib/site-packages/mlflow/tracking/client.py?line=112'>113</a>\u001b[0m     \u001b[39m\"\"\"\u001b[39;00m\n\u001b[0;32m    <a href='file:///c%3A/Users/Arun%20Mohan/.conda/envs/mlflowenv/lib/site-packages/mlflow/tracking/client.py?line=113'>114</a>\u001b[0m \u001b[39m    Fetch the run from backend store. The resulting :py:class:`Run <mlflow.entities.Run>`\u001b[39;00m\n\u001b[0;32m    <a href='file:///c%3A/Users/Arun%20Mohan/.conda/envs/mlflowenv/lib/site-packages/mlflow/tracking/client.py?line=114'>115</a>\u001b[0m \u001b[39m    contains a collection of run metadata -- :py:class:`RunInfo <mlflow.entities.RunInfo>`,\u001b[39;00m\n\u001b[1;32m   (...)\u001b[0m\n\u001b[0;32m    <a href='file:///c%3A/Users/Arun%20Mohan/.conda/envs/mlflowenv/lib/site-packages/mlflow/tracking/client.py?line=147'>148</a>\u001b[0m \u001b[39m        status: FINISHED\u001b[39;00m\n\u001b[0;32m    <a href='file:///c%3A/Users/Arun%20Mohan/.conda/envs/mlflowenv/lib/site-packages/mlflow/tracking/client.py?line=148'>149</a>\u001b[0m \u001b[39m    \"\"\"\u001b[39;00m\n\u001b[1;32m--> <a href='file:///c%3A/Users/Arun%20Mohan/.conda/envs/mlflowenv/lib/site-packages/mlflow/tracking/client.py?line=149'>150</a>\u001b[0m     \u001b[39mreturn\u001b[39;00m \u001b[39mself\u001b[39;49m\u001b[39m.\u001b[39;49m_tracking_client\u001b[39m.\u001b[39;49mget_run(run_id)\n",
      "File \u001b[1;32mc:\\Users\\Arun Mohan\\.conda\\envs\\mlflowenv\\lib\\site-packages\\mlflow\\tracking\\_tracking_service\\client.py:64\u001b[0m, in \u001b[0;36mTrackingServiceClient.get_run\u001b[1;34m(self, run_id)\u001b[0m\n\u001b[0;32m     <a href='file:///c%3A/Users/Arun%20Mohan/.conda/envs/mlflowenv/lib/site-packages/mlflow/tracking/_tracking_service/client.py?line=49'>50</a>\u001b[0m \u001b[39m\"\"\"\u001b[39;00m\n\u001b[0;32m     <a href='file:///c%3A/Users/Arun%20Mohan/.conda/envs/mlflowenv/lib/site-packages/mlflow/tracking/_tracking_service/client.py?line=50'>51</a>\u001b[0m \u001b[39mFetch the run from backend store. The resulting :py:class:`Run <mlflow.entities.Run>`\u001b[39;00m\n\u001b[0;32m     <a href='file:///c%3A/Users/Arun%20Mohan/.conda/envs/mlflowenv/lib/site-packages/mlflow/tracking/_tracking_service/client.py?line=51'>52</a>\u001b[0m \u001b[39mcontains a collection of run metadata -- :py:class:`RunInfo <mlflow.entities.RunInfo>`,\u001b[39;00m\n\u001b[1;32m   (...)\u001b[0m\n\u001b[0;32m     <a href='file:///c%3A/Users/Arun%20Mohan/.conda/envs/mlflowenv/lib/site-packages/mlflow/tracking/_tracking_service/client.py?line=60'>61</a>\u001b[0m \u001b[39m         raises an exception.\u001b[39;00m\n\u001b[0;32m     <a href='file:///c%3A/Users/Arun%20Mohan/.conda/envs/mlflowenv/lib/site-packages/mlflow/tracking/_tracking_service/client.py?line=61'>62</a>\u001b[0m \u001b[39m\"\"\"\u001b[39;00m\n\u001b[0;32m     <a href='file:///c%3A/Users/Arun%20Mohan/.conda/envs/mlflowenv/lib/site-packages/mlflow/tracking/_tracking_service/client.py?line=62'>63</a>\u001b[0m _validate_run_id(run_id)\n\u001b[1;32m---> <a href='file:///c%3A/Users/Arun%20Mohan/.conda/envs/mlflowenv/lib/site-packages/mlflow/tracking/_tracking_service/client.py?line=63'>64</a>\u001b[0m \u001b[39mreturn\u001b[39;00m \u001b[39mself\u001b[39;49m\u001b[39m.\u001b[39;49mstore\u001b[39m.\u001b[39;49mget_run(run_id)\n",
      "File \u001b[1;32mc:\\Users\\Arun Mohan\\.conda\\envs\\mlflowenv\\lib\\site-packages\\mlflow\\store\\tracking\\sqlalchemy_store.py:547\u001b[0m, in \u001b[0;36mSqlAlchemyStore.get_run\u001b[1;34m(self, run_id)\u001b[0m\n\u001b[0;32m    <a href='file:///c%3A/Users/Arun%20Mohan/.conda/envs/mlflowenv/lib/site-packages/mlflow/store/tracking/sqlalchemy_store.py?line=540'>541</a>\u001b[0m \u001b[39mdef\u001b[39;00m \u001b[39mget_run\u001b[39m(\u001b[39mself\u001b[39m, run_id):\n\u001b[0;32m    <a href='file:///c%3A/Users/Arun%20Mohan/.conda/envs/mlflowenv/lib/site-packages/mlflow/store/tracking/sqlalchemy_store.py?line=541'>542</a>\u001b[0m     \u001b[39mwith\u001b[39;00m \u001b[39mself\u001b[39m\u001b[39m.\u001b[39mManagedSessionMaker() \u001b[39mas\u001b[39;00m session:\n\u001b[0;32m    <a href='file:///c%3A/Users/Arun%20Mohan/.conda/envs/mlflowenv/lib/site-packages/mlflow/store/tracking/sqlalchemy_store.py?line=542'>543</a>\u001b[0m         \u001b[39m# Load the run with the specified id and eagerly load its summary metrics, params, and\u001b[39;00m\n\u001b[0;32m    <a href='file:///c%3A/Users/Arun%20Mohan/.conda/envs/mlflowenv/lib/site-packages/mlflow/store/tracking/sqlalchemy_store.py?line=543'>544</a>\u001b[0m         \u001b[39m# tags. These attributes are referenced during the invocation of\u001b[39;00m\n\u001b[0;32m    <a href='file:///c%3A/Users/Arun%20Mohan/.conda/envs/mlflowenv/lib/site-packages/mlflow/store/tracking/sqlalchemy_store.py?line=544'>545</a>\u001b[0m         \u001b[39m# ``run.to_mlflow_entity()``, so eager loading helps avoid additional database queries\u001b[39;00m\n\u001b[0;32m    <a href='file:///c%3A/Users/Arun%20Mohan/.conda/envs/mlflowenv/lib/site-packages/mlflow/store/tracking/sqlalchemy_store.py?line=545'>546</a>\u001b[0m         \u001b[39m# that are otherwise executed at attribute access time under a lazy loading model.\u001b[39;00m\n\u001b[1;32m--> <a href='file:///c%3A/Users/Arun%20Mohan/.conda/envs/mlflowenv/lib/site-packages/mlflow/store/tracking/sqlalchemy_store.py?line=546'>547</a>\u001b[0m         run \u001b[39m=\u001b[39m \u001b[39mself\u001b[39;49m\u001b[39m.\u001b[39;49m_get_run(run_uuid\u001b[39m=\u001b[39;49mrun_id, session\u001b[39m=\u001b[39;49msession, eager\u001b[39m=\u001b[39;49m\u001b[39mTrue\u001b[39;49;00m)\n\u001b[0;32m    <a href='file:///c%3A/Users/Arun%20Mohan/.conda/envs/mlflowenv/lib/site-packages/mlflow/store/tracking/sqlalchemy_store.py?line=547'>548</a>\u001b[0m         \u001b[39mreturn\u001b[39;00m run\u001b[39m.\u001b[39mto_mlflow_entity()\n",
      "File \u001b[1;32mc:\\Users\\Arun Mohan\\.conda\\envs\\mlflowenv\\lib\\site-packages\\mlflow\\store\\tracking\\sqlalchemy_store.py:466\u001b[0m, in \u001b[0;36mSqlAlchemyStore._get_run\u001b[1;34m(self, session, run_uuid, eager)\u001b[0m\n\u001b[0;32m    <a href='file:///c%3A/Users/Arun%20Mohan/.conda/envs/mlflowenv/lib/site-packages/mlflow/store/tracking/sqlalchemy_store.py?line=460'>461</a>\u001b[0m runs \u001b[39m=\u001b[39m (\n\u001b[0;32m    <a href='file:///c%3A/Users/Arun%20Mohan/.conda/envs/mlflowenv/lib/site-packages/mlflow/store/tracking/sqlalchemy_store.py?line=461'>462</a>\u001b[0m     session\u001b[39m.\u001b[39mquery(SqlRun)\u001b[39m.\u001b[39moptions(\u001b[39m*\u001b[39mquery_options)\u001b[39m.\u001b[39mfilter(SqlRun\u001b[39m.\u001b[39mrun_uuid \u001b[39m==\u001b[39m run_uuid)\u001b[39m.\u001b[39mall()\n\u001b[0;32m    <a href='file:///c%3A/Users/Arun%20Mohan/.conda/envs/mlflowenv/lib/site-packages/mlflow/store/tracking/sqlalchemy_store.py?line=462'>463</a>\u001b[0m )\n\u001b[0;32m    <a href='file:///c%3A/Users/Arun%20Mohan/.conda/envs/mlflowenv/lib/site-packages/mlflow/store/tracking/sqlalchemy_store.py?line=464'>465</a>\u001b[0m \u001b[39mif\u001b[39;00m \u001b[39mlen\u001b[39m(runs) \u001b[39m==\u001b[39m \u001b[39m0\u001b[39m:\n\u001b[1;32m--> <a href='file:///c%3A/Users/Arun%20Mohan/.conda/envs/mlflowenv/lib/site-packages/mlflow/store/tracking/sqlalchemy_store.py?line=465'>466</a>\u001b[0m     \u001b[39mraise\u001b[39;00m MlflowException(\n\u001b[0;32m    <a href='file:///c%3A/Users/Arun%20Mohan/.conda/envs/mlflowenv/lib/site-packages/mlflow/store/tracking/sqlalchemy_store.py?line=466'>467</a>\u001b[0m         \u001b[39m\"\u001b[39m\u001b[39mRun with id=\u001b[39m\u001b[39m{}\u001b[39;00m\u001b[39m not found\u001b[39m\u001b[39m\"\u001b[39m\u001b[39m.\u001b[39mformat(run_uuid), RESOURCE_DOES_NOT_EXIST\n\u001b[0;32m    <a href='file:///c%3A/Users/Arun%20Mohan/.conda/envs/mlflowenv/lib/site-packages/mlflow/store/tracking/sqlalchemy_store.py?line=467'>468</a>\u001b[0m     )\n\u001b[0;32m    <a href='file:///c%3A/Users/Arun%20Mohan/.conda/envs/mlflowenv/lib/site-packages/mlflow/store/tracking/sqlalchemy_store.py?line=468'>469</a>\u001b[0m \u001b[39mif\u001b[39;00m \u001b[39mlen\u001b[39m(runs) \u001b[39m>\u001b[39m \u001b[39m1\u001b[39m:\n\u001b[0;32m    <a href='file:///c%3A/Users/Arun%20Mohan/.conda/envs/mlflowenv/lib/site-packages/mlflow/store/tracking/sqlalchemy_store.py?line=469'>470</a>\u001b[0m     \u001b[39mraise\u001b[39;00m MlflowException(\n\u001b[0;32m    <a href='file:///c%3A/Users/Arun%20Mohan/.conda/envs/mlflowenv/lib/site-packages/mlflow/store/tracking/sqlalchemy_store.py?line=470'>471</a>\u001b[0m         \u001b[39m\"\u001b[39m\u001b[39mExpected only 1 run with id=\u001b[39m\u001b[39m{}\u001b[39;00m\u001b[39m. Found \u001b[39m\u001b[39m{}\u001b[39;00m\u001b[39m.\u001b[39m\u001b[39m\"\u001b[39m\u001b[39m.\u001b[39mformat(run_uuid, \u001b[39mlen\u001b[39m(runs)),\n\u001b[0;32m    <a href='file:///c%3A/Users/Arun%20Mohan/.conda/envs/mlflowenv/lib/site-packages/mlflow/store/tracking/sqlalchemy_store.py?line=471'>472</a>\u001b[0m         INVALID_STATE,\n\u001b[0;32m    <a href='file:///c%3A/Users/Arun%20Mohan/.conda/envs/mlflowenv/lib/site-packages/mlflow/store/tracking/sqlalchemy_store.py?line=472'>473</a>\u001b[0m     )\n",
      "\u001b[1;31mMlflowException\u001b[0m: Run with id=663e342cb43745efbab3b00fdb744d20 not found"
     ]
    }
   ],
   "source": [
    "run_id = '663e342cb43745efbab3b00fdb744d20'\n",
    "client = mlflow.tracking.MlflowClient()\n",
    "data = client.get_run(run_id).data\n",
    "data"
   ]
  },
  {
   "cell_type": "markdown",
   "metadata": {},
   "source": [
    "<h5>Filter Runs based on metrics</h5>\n",
    "\n",
    "<img src=\"../tmp/ui1.PNG\">\n",
    "\n",
    " \n",
    "\n",
    "<img src=\"../tmp/ui2.PNG\">"
   ]
  }
 ],
 "metadata": {
  "interpreter": {
   "hash": "ae96a247b687a06e2d16a19bfdf0b405f90bbd6c67c12f9823bfe17425660ed4"
  },
  "kernelspec": {
   "display_name": "Python 3.9.12 ('mlflowenv')",
   "language": "python",
   "name": "python3"
  },
  "language_info": {
   "codemirror_mode": {
    "name": "ipython",
    "version": 3
   },
   "file_extension": ".py",
   "mimetype": "text/x-python",
   "name": "python",
   "nbconvert_exporter": "python",
   "pygments_lexer": "ipython3",
   "version": "3.9.12"
  },
  "orig_nbformat": 4
 },
 "nbformat": 4,
 "nbformat_minor": 2
}
